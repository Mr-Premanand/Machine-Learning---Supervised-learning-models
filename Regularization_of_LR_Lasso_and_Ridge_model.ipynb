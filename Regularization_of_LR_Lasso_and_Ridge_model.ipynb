{
  "nbformat": 4,
  "nbformat_minor": 0,
  "metadata": {
    "colab": {
      "name": "Regularization of LR/ Lasso and Ridge model.ipynb",
      "provenance": [],
      "authorship_tag": "ABX9TyPxqrEeAR4YjYXgit4dqftZ",
      "include_colab_link": true
    },
    "kernelspec": {
      "name": "python3",
      "display_name": "Python 3"
    },
    "language_info": {
      "name": "python"
    }
  },
  "cells": [
    {
      "cell_type": "markdown",
      "metadata": {
        "id": "view-in-github",
        "colab_type": "text"
      },
      "source": [
        "<a href=\"https://colab.research.google.com/github/Mr-Premanand/Machine-Learning---Supervised-learning-models/blob/main/Regularization_of_LR_Lasso_and_Ridge_model.ipynb\" target=\"_parent\"><img src=\"https://colab.research.google.com/assets/colab-badge.svg\" alt=\"Open In Colab\"/></a>"
      ]
    },
    {
      "cell_type": "markdown",
      "source": [
        "In this we have seen that in linear regression we do not get accuracy so much and also we have seen that bias and variance ,from them we can say that model is underfitting(i.e higher bias) and Overfitting(i.e higher variance) so to make model optimum , we perform regularization technique (i.e Lasso and Ridge, details and in https://colab.research.google.com/drive/1WADBzzDo9zCtC-sqXt69PlRJZvQFz4dH?usp=sharing#scrollTo=uTjZT8A76OJb ) so to reduce that error we will not implement above two model and check the acurracy, "
      ],
      "metadata": {
        "id": "9V6Tw0bMHx_7"
      }
    },
    {
      "cell_type": "code",
      "execution_count": null,
      "metadata": {
        "id": "241b2e8c"
      },
      "outputs": [],
      "source": [
        "# Import Libraries\n",
        "import pandas as pd\n",
        "import matplotlib.pyplot as plt\n",
        "import seaborn as sns\n",
        "from sklearn.model_selection import train_test_split\n",
        "from sklearn.linear_model import LinearRegression\n",
        "from sklearn.metrics import mean_squared_error\n",
        "import datetime as dt\n",
        "import numpy as np\n",
        "from sklearn.metrics import r2_score"
      ]
    },
    {
      "cell_type": "code",
      "source": [
        "from google.colab import drive\n",
        "drive.mount('/content/drive')"
      ],
      "metadata": {
        "colab": {
          "base_uri": "https://localhost:8080/"
        },
        "id": "AYXiZn83mf9_",
        "outputId": "51f718e6-a4ef-4a0b-f480-1ac4c37b157b"
      },
      "execution_count": null,
      "outputs": [
        {
          "output_type": "stream",
          "name": "stdout",
          "text": [
            "Mounted at /content/drive\n"
          ]
        }
      ]
    },
    {
      "cell_type": "code",
      "execution_count": null,
      "metadata": {
        "id": "bfc9b7c4"
      },
      "outputs": [],
      "source": [
        "# Import Database\n",
        "df=pd.read_csv(\"/content/drive/MyDrive/Machine learning/Data/covid_19_india.csv\", parse_dates=[\"Date\"], dayfirst=True)"
      ]
    },
    {
      "cell_type": "code",
      "execution_count": null,
      "metadata": {
        "colab": {
          "base_uri": "https://localhost:8080/",
          "height": 206
        },
        "id": "16d1ff87",
        "outputId": "a39330aa-9970-4bdb-e929-e9a714ab6b4a"
      },
      "outputs": [
        {
          "output_type": "execute_result",
          "data": {
            "text/plain": [
              "   Sno       Date     Time State/UnionTerritory ConfirmedIndianNational  \\\n",
              "0    1 2020-01-30  6:00 PM               Kerala                       1   \n",
              "1    2 2020-01-31  6:00 PM               Kerala                       1   \n",
              "2    3 2020-02-01  6:00 PM               Kerala                       2   \n",
              "3    4 2020-02-02  6:00 PM               Kerala                       3   \n",
              "4    5 2020-02-03  6:00 PM               Kerala                       3   \n",
              "\n",
              "  ConfirmedForeignNational  Cured  Deaths  Confirmed  \n",
              "0                        0      0       0          1  \n",
              "1                        0      0       0          1  \n",
              "2                        0      0       0          2  \n",
              "3                        0      0       0          3  \n",
              "4                        0      0       0          3  "
            ],
            "text/html": [
              "\n",
              "  <div id=\"df-0f18b7b2-9a19-4690-808b-87498d9191da\">\n",
              "    <div class=\"colab-df-container\">\n",
              "      <div>\n",
              "<style scoped>\n",
              "    .dataframe tbody tr th:only-of-type {\n",
              "        vertical-align: middle;\n",
              "    }\n",
              "\n",
              "    .dataframe tbody tr th {\n",
              "        vertical-align: top;\n",
              "    }\n",
              "\n",
              "    .dataframe thead th {\n",
              "        text-align: right;\n",
              "    }\n",
              "</style>\n",
              "<table border=\"1\" class=\"dataframe\">\n",
              "  <thead>\n",
              "    <tr style=\"text-align: right;\">\n",
              "      <th></th>\n",
              "      <th>Sno</th>\n",
              "      <th>Date</th>\n",
              "      <th>Time</th>\n",
              "      <th>State/UnionTerritory</th>\n",
              "      <th>ConfirmedIndianNational</th>\n",
              "      <th>ConfirmedForeignNational</th>\n",
              "      <th>Cured</th>\n",
              "      <th>Deaths</th>\n",
              "      <th>Confirmed</th>\n",
              "    </tr>\n",
              "  </thead>\n",
              "  <tbody>\n",
              "    <tr>\n",
              "      <th>0</th>\n",
              "      <td>1</td>\n",
              "      <td>2020-01-30</td>\n",
              "      <td>6:00 PM</td>\n",
              "      <td>Kerala</td>\n",
              "      <td>1</td>\n",
              "      <td>0</td>\n",
              "      <td>0</td>\n",
              "      <td>0</td>\n",
              "      <td>1</td>\n",
              "    </tr>\n",
              "    <tr>\n",
              "      <th>1</th>\n",
              "      <td>2</td>\n",
              "      <td>2020-01-31</td>\n",
              "      <td>6:00 PM</td>\n",
              "      <td>Kerala</td>\n",
              "      <td>1</td>\n",
              "      <td>0</td>\n",
              "      <td>0</td>\n",
              "      <td>0</td>\n",
              "      <td>1</td>\n",
              "    </tr>\n",
              "    <tr>\n",
              "      <th>2</th>\n",
              "      <td>3</td>\n",
              "      <td>2020-02-01</td>\n",
              "      <td>6:00 PM</td>\n",
              "      <td>Kerala</td>\n",
              "      <td>2</td>\n",
              "      <td>0</td>\n",
              "      <td>0</td>\n",
              "      <td>0</td>\n",
              "      <td>2</td>\n",
              "    </tr>\n",
              "    <tr>\n",
              "      <th>3</th>\n",
              "      <td>4</td>\n",
              "      <td>2020-02-02</td>\n",
              "      <td>6:00 PM</td>\n",
              "      <td>Kerala</td>\n",
              "      <td>3</td>\n",
              "      <td>0</td>\n",
              "      <td>0</td>\n",
              "      <td>0</td>\n",
              "      <td>3</td>\n",
              "    </tr>\n",
              "    <tr>\n",
              "      <th>4</th>\n",
              "      <td>5</td>\n",
              "      <td>2020-02-03</td>\n",
              "      <td>6:00 PM</td>\n",
              "      <td>Kerala</td>\n",
              "      <td>3</td>\n",
              "      <td>0</td>\n",
              "      <td>0</td>\n",
              "      <td>0</td>\n",
              "      <td>3</td>\n",
              "    </tr>\n",
              "  </tbody>\n",
              "</table>\n",
              "</div>\n",
              "      <button class=\"colab-df-convert\" onclick=\"convertToInteractive('df-0f18b7b2-9a19-4690-808b-87498d9191da')\"\n",
              "              title=\"Convert this dataframe to an interactive table.\"\n",
              "              style=\"display:none;\">\n",
              "        \n",
              "  <svg xmlns=\"http://www.w3.org/2000/svg\" height=\"24px\"viewBox=\"0 0 24 24\"\n",
              "       width=\"24px\">\n",
              "    <path d=\"M0 0h24v24H0V0z\" fill=\"none\"/>\n",
              "    <path d=\"M18.56 5.44l.94 2.06.94-2.06 2.06-.94-2.06-.94-.94-2.06-.94 2.06-2.06.94zm-11 1L8.5 8.5l.94-2.06 2.06-.94-2.06-.94L8.5 2.5l-.94 2.06-2.06.94zm10 10l.94 2.06.94-2.06 2.06-.94-2.06-.94-.94-2.06-.94 2.06-2.06.94z\"/><path d=\"M17.41 7.96l-1.37-1.37c-.4-.4-.92-.59-1.43-.59-.52 0-1.04.2-1.43.59L10.3 9.45l-7.72 7.72c-.78.78-.78 2.05 0 2.83L4 21.41c.39.39.9.59 1.41.59.51 0 1.02-.2 1.41-.59l7.78-7.78 2.81-2.81c.8-.78.8-2.07 0-2.86zM5.41 20L4 18.59l7.72-7.72 1.47 1.35L5.41 20z\"/>\n",
              "  </svg>\n",
              "      </button>\n",
              "      \n",
              "  <style>\n",
              "    .colab-df-container {\n",
              "      display:flex;\n",
              "      flex-wrap:wrap;\n",
              "      gap: 12px;\n",
              "    }\n",
              "\n",
              "    .colab-df-convert {\n",
              "      background-color: #E8F0FE;\n",
              "      border: none;\n",
              "      border-radius: 50%;\n",
              "      cursor: pointer;\n",
              "      display: none;\n",
              "      fill: #1967D2;\n",
              "      height: 32px;\n",
              "      padding: 0 0 0 0;\n",
              "      width: 32px;\n",
              "    }\n",
              "\n",
              "    .colab-df-convert:hover {\n",
              "      background-color: #E2EBFA;\n",
              "      box-shadow: 0px 1px 2px rgba(60, 64, 67, 0.3), 0px 1px 3px 1px rgba(60, 64, 67, 0.15);\n",
              "      fill: #174EA6;\n",
              "    }\n",
              "\n",
              "    [theme=dark] .colab-df-convert {\n",
              "      background-color: #3B4455;\n",
              "      fill: #D2E3FC;\n",
              "    }\n",
              "\n",
              "    [theme=dark] .colab-df-convert:hover {\n",
              "      background-color: #434B5C;\n",
              "      box-shadow: 0px 1px 3px 1px rgba(0, 0, 0, 0.15);\n",
              "      filter: drop-shadow(0px 1px 2px rgba(0, 0, 0, 0.3));\n",
              "      fill: #FFFFFF;\n",
              "    }\n",
              "  </style>\n",
              "\n",
              "      <script>\n",
              "        const buttonEl =\n",
              "          document.querySelector('#df-0f18b7b2-9a19-4690-808b-87498d9191da button.colab-df-convert');\n",
              "        buttonEl.style.display =\n",
              "          google.colab.kernel.accessAllowed ? 'block' : 'none';\n",
              "\n",
              "        async function convertToInteractive(key) {\n",
              "          const element = document.querySelector('#df-0f18b7b2-9a19-4690-808b-87498d9191da');\n",
              "          const dataTable =\n",
              "            await google.colab.kernel.invokeFunction('convertToInteractive',\n",
              "                                                     [key], {});\n",
              "          if (!dataTable) return;\n",
              "\n",
              "          const docLinkHtml = 'Like what you see? Visit the ' +\n",
              "            '<a target=\"_blank\" href=https://colab.research.google.com/notebooks/data_table.ipynb>data table notebook</a>'\n",
              "            + ' to learn more about interactive tables.';\n",
              "          element.innerHTML = '';\n",
              "          dataTable['output_type'] = 'display_data';\n",
              "          await google.colab.output.renderOutput(dataTable, element);\n",
              "          const docLink = document.createElement('div');\n",
              "          docLink.innerHTML = docLinkHtml;\n",
              "          element.appendChild(docLink);\n",
              "        }\n",
              "      </script>\n",
              "    </div>\n",
              "  </div>\n",
              "  "
            ]
          },
          "metadata": {},
          "execution_count": 4
        }
      ],
      "source": [
        "df.head()"
      ]
    },
    {
      "cell_type": "code",
      "source": [
        "# In we do not need all coluns so that we will keep only required column and again define as df\n",
        "df=df[['Date','State/UnionTerritory','Cured','Deaths','Confirmed']]\n",
        "\n",
        "# Change the names of column\n",
        "df.columns=['date','state','cured','death','confirmed']"
      ],
      "metadata": {
        "id": "bHJ1Leogryks"
      },
      "execution_count": null,
      "outputs": []
    },
    {
      "cell_type": "code",
      "source": [
        "# eirlier record\n",
        "df.head()"
      ],
      "metadata": {
        "colab": {
          "base_uri": "https://localhost:8080/",
          "height": 206
        },
        "id": "Yl-WNAa3rzeN",
        "outputId": "2d45074f-739b-45da-8f18-6fde429cb016"
      },
      "execution_count": null,
      "outputs": [
        {
          "output_type": "execute_result",
          "data": {
            "text/plain": [
              "        date   state  cured  death  confirmed\n",
              "0 2020-01-30  Kerala      0      0          1\n",
              "1 2020-01-31  Kerala      0      0          1\n",
              "2 2020-02-01  Kerala      0      0          2\n",
              "3 2020-02-02  Kerala      0      0          3\n",
              "4 2020-02-03  Kerala      0      0          3"
            ],
            "text/html": [
              "\n",
              "  <div id=\"df-a17d8edd-01d4-4446-b632-3be48e0ae9a0\">\n",
              "    <div class=\"colab-df-container\">\n",
              "      <div>\n",
              "<style scoped>\n",
              "    .dataframe tbody tr th:only-of-type {\n",
              "        vertical-align: middle;\n",
              "    }\n",
              "\n",
              "    .dataframe tbody tr th {\n",
              "        vertical-align: top;\n",
              "    }\n",
              "\n",
              "    .dataframe thead th {\n",
              "        text-align: right;\n",
              "    }\n",
              "</style>\n",
              "<table border=\"1\" class=\"dataframe\">\n",
              "  <thead>\n",
              "    <tr style=\"text-align: right;\">\n",
              "      <th></th>\n",
              "      <th>date</th>\n",
              "      <th>state</th>\n",
              "      <th>cured</th>\n",
              "      <th>death</th>\n",
              "      <th>confirmed</th>\n",
              "    </tr>\n",
              "  </thead>\n",
              "  <tbody>\n",
              "    <tr>\n",
              "      <th>0</th>\n",
              "      <td>2020-01-30</td>\n",
              "      <td>Kerala</td>\n",
              "      <td>0</td>\n",
              "      <td>0</td>\n",
              "      <td>1</td>\n",
              "    </tr>\n",
              "    <tr>\n",
              "      <th>1</th>\n",
              "      <td>2020-01-31</td>\n",
              "      <td>Kerala</td>\n",
              "      <td>0</td>\n",
              "      <td>0</td>\n",
              "      <td>1</td>\n",
              "    </tr>\n",
              "    <tr>\n",
              "      <th>2</th>\n",
              "      <td>2020-02-01</td>\n",
              "      <td>Kerala</td>\n",
              "      <td>0</td>\n",
              "      <td>0</td>\n",
              "      <td>2</td>\n",
              "    </tr>\n",
              "    <tr>\n",
              "      <th>3</th>\n",
              "      <td>2020-02-02</td>\n",
              "      <td>Kerala</td>\n",
              "      <td>0</td>\n",
              "      <td>0</td>\n",
              "      <td>3</td>\n",
              "    </tr>\n",
              "    <tr>\n",
              "      <th>4</th>\n",
              "      <td>2020-02-03</td>\n",
              "      <td>Kerala</td>\n",
              "      <td>0</td>\n",
              "      <td>0</td>\n",
              "      <td>3</td>\n",
              "    </tr>\n",
              "  </tbody>\n",
              "</table>\n",
              "</div>\n",
              "      <button class=\"colab-df-convert\" onclick=\"convertToInteractive('df-a17d8edd-01d4-4446-b632-3be48e0ae9a0')\"\n",
              "              title=\"Convert this dataframe to an interactive table.\"\n",
              "              style=\"display:none;\">\n",
              "        \n",
              "  <svg xmlns=\"http://www.w3.org/2000/svg\" height=\"24px\"viewBox=\"0 0 24 24\"\n",
              "       width=\"24px\">\n",
              "    <path d=\"M0 0h24v24H0V0z\" fill=\"none\"/>\n",
              "    <path d=\"M18.56 5.44l.94 2.06.94-2.06 2.06-.94-2.06-.94-.94-2.06-.94 2.06-2.06.94zm-11 1L8.5 8.5l.94-2.06 2.06-.94-2.06-.94L8.5 2.5l-.94 2.06-2.06.94zm10 10l.94 2.06.94-2.06 2.06-.94-2.06-.94-.94-2.06-.94 2.06-2.06.94z\"/><path d=\"M17.41 7.96l-1.37-1.37c-.4-.4-.92-.59-1.43-.59-.52 0-1.04.2-1.43.59L10.3 9.45l-7.72 7.72c-.78.78-.78 2.05 0 2.83L4 21.41c.39.39.9.59 1.41.59.51 0 1.02-.2 1.41-.59l7.78-7.78 2.81-2.81c.8-.78.8-2.07 0-2.86zM5.41 20L4 18.59l7.72-7.72 1.47 1.35L5.41 20z\"/>\n",
              "  </svg>\n",
              "      </button>\n",
              "      \n",
              "  <style>\n",
              "    .colab-df-container {\n",
              "      display:flex;\n",
              "      flex-wrap:wrap;\n",
              "      gap: 12px;\n",
              "    }\n",
              "\n",
              "    .colab-df-convert {\n",
              "      background-color: #E8F0FE;\n",
              "      border: none;\n",
              "      border-radius: 50%;\n",
              "      cursor: pointer;\n",
              "      display: none;\n",
              "      fill: #1967D2;\n",
              "      height: 32px;\n",
              "      padding: 0 0 0 0;\n",
              "      width: 32px;\n",
              "    }\n",
              "\n",
              "    .colab-df-convert:hover {\n",
              "      background-color: #E2EBFA;\n",
              "      box-shadow: 0px 1px 2px rgba(60, 64, 67, 0.3), 0px 1px 3px 1px rgba(60, 64, 67, 0.15);\n",
              "      fill: #174EA6;\n",
              "    }\n",
              "\n",
              "    [theme=dark] .colab-df-convert {\n",
              "      background-color: #3B4455;\n",
              "      fill: #D2E3FC;\n",
              "    }\n",
              "\n",
              "    [theme=dark] .colab-df-convert:hover {\n",
              "      background-color: #434B5C;\n",
              "      box-shadow: 0px 1px 3px 1px rgba(0, 0, 0, 0.15);\n",
              "      filter: drop-shadow(0px 1px 2px rgba(0, 0, 0, 0.3));\n",
              "      fill: #FFFFFF;\n",
              "    }\n",
              "  </style>\n",
              "\n",
              "      <script>\n",
              "        const buttonEl =\n",
              "          document.querySelector('#df-a17d8edd-01d4-4446-b632-3be48e0ae9a0 button.colab-df-convert');\n",
              "        buttonEl.style.display =\n",
              "          google.colab.kernel.accessAllowed ? 'block' : 'none';\n",
              "\n",
              "        async function convertToInteractive(key) {\n",
              "          const element = document.querySelector('#df-a17d8edd-01d4-4446-b632-3be48e0ae9a0');\n",
              "          const dataTable =\n",
              "            await google.colab.kernel.invokeFunction('convertToInteractive',\n",
              "                                                     [key], {});\n",
              "          if (!dataTable) return;\n",
              "\n",
              "          const docLinkHtml = 'Like what you see? Visit the ' +\n",
              "            '<a target=\"_blank\" href=https://colab.research.google.com/notebooks/data_table.ipynb>data table notebook</a>'\n",
              "            + ' to learn more about interactive tables.';\n",
              "          element.innerHTML = '';\n",
              "          dataTable['output_type'] = 'display_data';\n",
              "          await google.colab.output.renderOutput(dataTable, element);\n",
              "          const docLink = document.createElement('div');\n",
              "          docLink.innerHTML = docLinkHtml;\n",
              "          element.appendChild(docLink);\n",
              "        }\n",
              "      </script>\n",
              "    </div>\n",
              "  </div>\n",
              "  "
            ]
          },
          "metadata": {},
          "execution_count": 6
        }
      ]
    },
    {
      "cell_type": "code",
      "source": [
        "# latest record\n",
        "df.tail()"
      ],
      "metadata": {
        "colab": {
          "base_uri": "https://localhost:8080/",
          "height": 206
        },
        "id": "KcXQkqnIuhkO",
        "outputId": "bb4b7330-90c5-4f05-89c4-12b1a7cdb2eb"
      },
      "execution_count": null,
      "outputs": [
        {
          "output_type": "execute_result",
          "data": {
            "text/plain": [
              "            date          state    cured  death  confirmed\n",
              "18105 2021-08-11      Telangana   638410   3831     650353\n",
              "18106 2021-08-11        Tripura    77811    773      80660\n",
              "18107 2021-08-11    Uttarakhand   334650   7368     342462\n",
              "18108 2021-08-11  Uttar Pradesh  1685492  22775    1708812\n",
              "18109 2021-08-11    West Bengal  1506532  18252    1534999"
            ],
            "text/html": [
              "\n",
              "  <div id=\"df-932246e8-a01b-4b36-bae6-f8df817fee8a\">\n",
              "    <div class=\"colab-df-container\">\n",
              "      <div>\n",
              "<style scoped>\n",
              "    .dataframe tbody tr th:only-of-type {\n",
              "        vertical-align: middle;\n",
              "    }\n",
              "\n",
              "    .dataframe tbody tr th {\n",
              "        vertical-align: top;\n",
              "    }\n",
              "\n",
              "    .dataframe thead th {\n",
              "        text-align: right;\n",
              "    }\n",
              "</style>\n",
              "<table border=\"1\" class=\"dataframe\">\n",
              "  <thead>\n",
              "    <tr style=\"text-align: right;\">\n",
              "      <th></th>\n",
              "      <th>date</th>\n",
              "      <th>state</th>\n",
              "      <th>cured</th>\n",
              "      <th>death</th>\n",
              "      <th>confirmed</th>\n",
              "    </tr>\n",
              "  </thead>\n",
              "  <tbody>\n",
              "    <tr>\n",
              "      <th>18105</th>\n",
              "      <td>2021-08-11</td>\n",
              "      <td>Telangana</td>\n",
              "      <td>638410</td>\n",
              "      <td>3831</td>\n",
              "      <td>650353</td>\n",
              "    </tr>\n",
              "    <tr>\n",
              "      <th>18106</th>\n",
              "      <td>2021-08-11</td>\n",
              "      <td>Tripura</td>\n",
              "      <td>77811</td>\n",
              "      <td>773</td>\n",
              "      <td>80660</td>\n",
              "    </tr>\n",
              "    <tr>\n",
              "      <th>18107</th>\n",
              "      <td>2021-08-11</td>\n",
              "      <td>Uttarakhand</td>\n",
              "      <td>334650</td>\n",
              "      <td>7368</td>\n",
              "      <td>342462</td>\n",
              "    </tr>\n",
              "    <tr>\n",
              "      <th>18108</th>\n",
              "      <td>2021-08-11</td>\n",
              "      <td>Uttar Pradesh</td>\n",
              "      <td>1685492</td>\n",
              "      <td>22775</td>\n",
              "      <td>1708812</td>\n",
              "    </tr>\n",
              "    <tr>\n",
              "      <th>18109</th>\n",
              "      <td>2021-08-11</td>\n",
              "      <td>West Bengal</td>\n",
              "      <td>1506532</td>\n",
              "      <td>18252</td>\n",
              "      <td>1534999</td>\n",
              "    </tr>\n",
              "  </tbody>\n",
              "</table>\n",
              "</div>\n",
              "      <button class=\"colab-df-convert\" onclick=\"convertToInteractive('df-932246e8-a01b-4b36-bae6-f8df817fee8a')\"\n",
              "              title=\"Convert this dataframe to an interactive table.\"\n",
              "              style=\"display:none;\">\n",
              "        \n",
              "  <svg xmlns=\"http://www.w3.org/2000/svg\" height=\"24px\"viewBox=\"0 0 24 24\"\n",
              "       width=\"24px\">\n",
              "    <path d=\"M0 0h24v24H0V0z\" fill=\"none\"/>\n",
              "    <path d=\"M18.56 5.44l.94 2.06.94-2.06 2.06-.94-2.06-.94-.94-2.06-.94 2.06-2.06.94zm-11 1L8.5 8.5l.94-2.06 2.06-.94-2.06-.94L8.5 2.5l-.94 2.06-2.06.94zm10 10l.94 2.06.94-2.06 2.06-.94-2.06-.94-.94-2.06-.94 2.06-2.06.94z\"/><path d=\"M17.41 7.96l-1.37-1.37c-.4-.4-.92-.59-1.43-.59-.52 0-1.04.2-1.43.59L10.3 9.45l-7.72 7.72c-.78.78-.78 2.05 0 2.83L4 21.41c.39.39.9.59 1.41.59.51 0 1.02-.2 1.41-.59l7.78-7.78 2.81-2.81c.8-.78.8-2.07 0-2.86zM5.41 20L4 18.59l7.72-7.72 1.47 1.35L5.41 20z\"/>\n",
              "  </svg>\n",
              "      </button>\n",
              "      \n",
              "  <style>\n",
              "    .colab-df-container {\n",
              "      display:flex;\n",
              "      flex-wrap:wrap;\n",
              "      gap: 12px;\n",
              "    }\n",
              "\n",
              "    .colab-df-convert {\n",
              "      background-color: #E8F0FE;\n",
              "      border: none;\n",
              "      border-radius: 50%;\n",
              "      cursor: pointer;\n",
              "      display: none;\n",
              "      fill: #1967D2;\n",
              "      height: 32px;\n",
              "      padding: 0 0 0 0;\n",
              "      width: 32px;\n",
              "    }\n",
              "\n",
              "    .colab-df-convert:hover {\n",
              "      background-color: #E2EBFA;\n",
              "      box-shadow: 0px 1px 2px rgba(60, 64, 67, 0.3), 0px 1px 3px 1px rgba(60, 64, 67, 0.15);\n",
              "      fill: #174EA6;\n",
              "    }\n",
              "\n",
              "    [theme=dark] .colab-df-convert {\n",
              "      background-color: #3B4455;\n",
              "      fill: #D2E3FC;\n",
              "    }\n",
              "\n",
              "    [theme=dark] .colab-df-convert:hover {\n",
              "      background-color: #434B5C;\n",
              "      box-shadow: 0px 1px 3px 1px rgba(0, 0, 0, 0.15);\n",
              "      filter: drop-shadow(0px 1px 2px rgba(0, 0, 0, 0.3));\n",
              "      fill: #FFFFFF;\n",
              "    }\n",
              "  </style>\n",
              "\n",
              "      <script>\n",
              "        const buttonEl =\n",
              "          document.querySelector('#df-932246e8-a01b-4b36-bae6-f8df817fee8a button.colab-df-convert');\n",
              "        buttonEl.style.display =\n",
              "          google.colab.kernel.accessAllowed ? 'block' : 'none';\n",
              "\n",
              "        async function convertToInteractive(key) {\n",
              "          const element = document.querySelector('#df-932246e8-a01b-4b36-bae6-f8df817fee8a');\n",
              "          const dataTable =\n",
              "            await google.colab.kernel.invokeFunction('convertToInteractive',\n",
              "                                                     [key], {});\n",
              "          if (!dataTable) return;\n",
              "\n",
              "          const docLinkHtml = 'Like what you see? Visit the ' +\n",
              "            '<a target=\"_blank\" href=https://colab.research.google.com/notebooks/data_table.ipynb>data table notebook</a>'\n",
              "            + ' to learn more about interactive tables.';\n",
              "          element.innerHTML = '';\n",
              "          dataTable['output_type'] = 'display_data';\n",
              "          await google.colab.output.renderOutput(dataTable, element);\n",
              "          const docLink = document.createElement('div');\n",
              "          docLink.innerHTML = docLinkHtml;\n",
              "          element.appendChild(docLink);\n",
              "        }\n",
              "      </script>\n",
              "    </div>\n",
              "  </div>\n",
              "  "
            ]
          },
          "metadata": {},
          "execution_count": 7
        }
      ]
    },
    {
      "cell_type": "code",
      "source": [
        "# Now check the cases and death only in maharashtra because of max cases in maharashtra\n",
        "mh=df[df.state==\"Maharashtra\"]\n",
        "mh"
      ],
      "metadata": {
        "colab": {
          "base_uri": "https://localhost:8080/",
          "height": 424
        },
        "id": "83_QN9foJvIp",
        "outputId": "7d96d632-9c66-4c07-84c6-f96049b20132"
      },
      "execution_count": null,
      "outputs": [
        {
          "output_type": "execute_result",
          "data": {
            "text/plain": [
              "            date        state    cured   death  confirmed\n",
              "76    2020-03-09  Maharashtra        0       0          2\n",
              "91    2020-03-10  Maharashtra        0       0          5\n",
              "97    2020-03-11  Maharashtra        0       0          2\n",
              "120   2020-03-12  Maharashtra        0       0         11\n",
              "133   2020-03-13  Maharashtra        0       0         14\n",
              "...          ...          ...      ...     ...        ...\n",
              "17950 2021-08-07  Maharashtra  6130137  133717    6341759\n",
              "17986 2021-08-08  Maharashtra  6139493  133845    6347820\n",
              "18022 2021-08-09  Maharashtra  6144388  133996    6353328\n",
              "18058 2021-08-10  Maharashtra  6151956  134064    6357833\n",
              "18094 2021-08-11  Maharashtra  6159676  134201    6363442\n",
              "\n",
              "[520 rows x 5 columns]"
            ],
            "text/html": [
              "\n",
              "  <div id=\"df-6e837fed-5569-42fb-8f34-288cdd1938ca\">\n",
              "    <div class=\"colab-df-container\">\n",
              "      <div>\n",
              "<style scoped>\n",
              "    .dataframe tbody tr th:only-of-type {\n",
              "        vertical-align: middle;\n",
              "    }\n",
              "\n",
              "    .dataframe tbody tr th {\n",
              "        vertical-align: top;\n",
              "    }\n",
              "\n",
              "    .dataframe thead th {\n",
              "        text-align: right;\n",
              "    }\n",
              "</style>\n",
              "<table border=\"1\" class=\"dataframe\">\n",
              "  <thead>\n",
              "    <tr style=\"text-align: right;\">\n",
              "      <th></th>\n",
              "      <th>date</th>\n",
              "      <th>state</th>\n",
              "      <th>cured</th>\n",
              "      <th>death</th>\n",
              "      <th>confirmed</th>\n",
              "    </tr>\n",
              "  </thead>\n",
              "  <tbody>\n",
              "    <tr>\n",
              "      <th>76</th>\n",
              "      <td>2020-03-09</td>\n",
              "      <td>Maharashtra</td>\n",
              "      <td>0</td>\n",
              "      <td>0</td>\n",
              "      <td>2</td>\n",
              "    </tr>\n",
              "    <tr>\n",
              "      <th>91</th>\n",
              "      <td>2020-03-10</td>\n",
              "      <td>Maharashtra</td>\n",
              "      <td>0</td>\n",
              "      <td>0</td>\n",
              "      <td>5</td>\n",
              "    </tr>\n",
              "    <tr>\n",
              "      <th>97</th>\n",
              "      <td>2020-03-11</td>\n",
              "      <td>Maharashtra</td>\n",
              "      <td>0</td>\n",
              "      <td>0</td>\n",
              "      <td>2</td>\n",
              "    </tr>\n",
              "    <tr>\n",
              "      <th>120</th>\n",
              "      <td>2020-03-12</td>\n",
              "      <td>Maharashtra</td>\n",
              "      <td>0</td>\n",
              "      <td>0</td>\n",
              "      <td>11</td>\n",
              "    </tr>\n",
              "    <tr>\n",
              "      <th>133</th>\n",
              "      <td>2020-03-13</td>\n",
              "      <td>Maharashtra</td>\n",
              "      <td>0</td>\n",
              "      <td>0</td>\n",
              "      <td>14</td>\n",
              "    </tr>\n",
              "    <tr>\n",
              "      <th>...</th>\n",
              "      <td>...</td>\n",
              "      <td>...</td>\n",
              "      <td>...</td>\n",
              "      <td>...</td>\n",
              "      <td>...</td>\n",
              "    </tr>\n",
              "    <tr>\n",
              "      <th>17950</th>\n",
              "      <td>2021-08-07</td>\n",
              "      <td>Maharashtra</td>\n",
              "      <td>6130137</td>\n",
              "      <td>133717</td>\n",
              "      <td>6341759</td>\n",
              "    </tr>\n",
              "    <tr>\n",
              "      <th>17986</th>\n",
              "      <td>2021-08-08</td>\n",
              "      <td>Maharashtra</td>\n",
              "      <td>6139493</td>\n",
              "      <td>133845</td>\n",
              "      <td>6347820</td>\n",
              "    </tr>\n",
              "    <tr>\n",
              "      <th>18022</th>\n",
              "      <td>2021-08-09</td>\n",
              "      <td>Maharashtra</td>\n",
              "      <td>6144388</td>\n",
              "      <td>133996</td>\n",
              "      <td>6353328</td>\n",
              "    </tr>\n",
              "    <tr>\n",
              "      <th>18058</th>\n",
              "      <td>2021-08-10</td>\n",
              "      <td>Maharashtra</td>\n",
              "      <td>6151956</td>\n",
              "      <td>134064</td>\n",
              "      <td>6357833</td>\n",
              "    </tr>\n",
              "    <tr>\n",
              "      <th>18094</th>\n",
              "      <td>2021-08-11</td>\n",
              "      <td>Maharashtra</td>\n",
              "      <td>6159676</td>\n",
              "      <td>134201</td>\n",
              "      <td>6363442</td>\n",
              "    </tr>\n",
              "  </tbody>\n",
              "</table>\n",
              "<p>520 rows × 5 columns</p>\n",
              "</div>\n",
              "      <button class=\"colab-df-convert\" onclick=\"convertToInteractive('df-6e837fed-5569-42fb-8f34-288cdd1938ca')\"\n",
              "              title=\"Convert this dataframe to an interactive table.\"\n",
              "              style=\"display:none;\">\n",
              "        \n",
              "  <svg xmlns=\"http://www.w3.org/2000/svg\" height=\"24px\"viewBox=\"0 0 24 24\"\n",
              "       width=\"24px\">\n",
              "    <path d=\"M0 0h24v24H0V0z\" fill=\"none\"/>\n",
              "    <path d=\"M18.56 5.44l.94 2.06.94-2.06 2.06-.94-2.06-.94-.94-2.06-.94 2.06-2.06.94zm-11 1L8.5 8.5l.94-2.06 2.06-.94-2.06-.94L8.5 2.5l-.94 2.06-2.06.94zm10 10l.94 2.06.94-2.06 2.06-.94-2.06-.94-.94-2.06-.94 2.06-2.06.94z\"/><path d=\"M17.41 7.96l-1.37-1.37c-.4-.4-.92-.59-1.43-.59-.52 0-1.04.2-1.43.59L10.3 9.45l-7.72 7.72c-.78.78-.78 2.05 0 2.83L4 21.41c.39.39.9.59 1.41.59.51 0 1.02-.2 1.41-.59l7.78-7.78 2.81-2.81c.8-.78.8-2.07 0-2.86zM5.41 20L4 18.59l7.72-7.72 1.47 1.35L5.41 20z\"/>\n",
              "  </svg>\n",
              "      </button>\n",
              "      \n",
              "  <style>\n",
              "    .colab-df-container {\n",
              "      display:flex;\n",
              "      flex-wrap:wrap;\n",
              "      gap: 12px;\n",
              "    }\n",
              "\n",
              "    .colab-df-convert {\n",
              "      background-color: #E8F0FE;\n",
              "      border: none;\n",
              "      border-radius: 50%;\n",
              "      cursor: pointer;\n",
              "      display: none;\n",
              "      fill: #1967D2;\n",
              "      height: 32px;\n",
              "      padding: 0 0 0 0;\n",
              "      width: 32px;\n",
              "    }\n",
              "\n",
              "    .colab-df-convert:hover {\n",
              "      background-color: #E2EBFA;\n",
              "      box-shadow: 0px 1px 2px rgba(60, 64, 67, 0.3), 0px 1px 3px 1px rgba(60, 64, 67, 0.15);\n",
              "      fill: #174EA6;\n",
              "    }\n",
              "\n",
              "    [theme=dark] .colab-df-convert {\n",
              "      background-color: #3B4455;\n",
              "      fill: #D2E3FC;\n",
              "    }\n",
              "\n",
              "    [theme=dark] .colab-df-convert:hover {\n",
              "      background-color: #434B5C;\n",
              "      box-shadow: 0px 1px 3px 1px rgba(0, 0, 0, 0.15);\n",
              "      filter: drop-shadow(0px 1px 2px rgba(0, 0, 0, 0.3));\n",
              "      fill: #FFFFFF;\n",
              "    }\n",
              "  </style>\n",
              "\n",
              "      <script>\n",
              "        const buttonEl =\n",
              "          document.querySelector('#df-6e837fed-5569-42fb-8f34-288cdd1938ca button.colab-df-convert');\n",
              "        buttonEl.style.display =\n",
              "          google.colab.kernel.accessAllowed ? 'block' : 'none';\n",
              "\n",
              "        async function convertToInteractive(key) {\n",
              "          const element = document.querySelector('#df-6e837fed-5569-42fb-8f34-288cdd1938ca');\n",
              "          const dataTable =\n",
              "            await google.colab.kernel.invokeFunction('convertToInteractive',\n",
              "                                                     [key], {});\n",
              "          if (!dataTable) return;\n",
              "\n",
              "          const docLinkHtml = 'Like what you see? Visit the ' +\n",
              "            '<a target=\"_blank\" href=https://colab.research.google.com/notebooks/data_table.ipynb>data table notebook</a>'\n",
              "            + ' to learn more about interactive tables.';\n",
              "          element.innerHTML = '';\n",
              "          dataTable['output_type'] = 'display_data';\n",
              "          await google.colab.output.renderOutput(dataTable, element);\n",
              "          const docLink = document.createElement('div');\n",
              "          docLink.innerHTML = docLinkHtml;\n",
              "          element.appendChild(docLink);\n",
              "        }\n",
              "      </script>\n",
              "    </div>\n",
              "  </div>\n",
              "  "
            ]
          },
          "metadata": {},
          "execution_count": 8
        }
      ]
    },
    {
      "cell_type": "markdown",
      "source": [
        "# Linear regression in Maharashtra\n",
        "\n",
        "y=mx+c\n",
        "\n",
        "In this we will take \"Date\" as independent variable i.e x\n",
        "and \"Confirmed\"cases takes as dependent variable i.e y  ,   so that by puting the date we can easily predict the cases."
      ],
      "metadata": {
        "id": "fPCi9cvV8_mT"
      }
    },
    {
      "cell_type": "code",
      "source": [
        "# Converting date to ordinal\n",
        "mh[\"date\"]=mh[\"date\"].map(dt.datetime.toordinal)\n",
        "mh.head()"
      ],
      "metadata": {
        "colab": {
          "base_uri": "https://localhost:8080/",
          "height": 310
        },
        "id": "woIZa56O89sL",
        "outputId": "5f79d3ba-e923-40ff-81fd-4bb56de3627a"
      },
      "execution_count": null,
      "outputs": [
        {
          "output_type": "stream",
          "name": "stderr",
          "text": [
            "/usr/local/lib/python3.7/dist-packages/ipykernel_launcher.py:2: SettingWithCopyWarning: \n",
            "A value is trying to be set on a copy of a slice from a DataFrame.\n",
            "Try using .loc[row_indexer,col_indexer] = value instead\n",
            "\n",
            "See the caveats in the documentation: https://pandas.pydata.org/pandas-docs/stable/user_guide/indexing.html#returning-a-view-versus-a-copy\n",
            "  \n"
          ]
        },
        {
          "output_type": "execute_result",
          "data": {
            "text/plain": [
              "       date        state  cured  death  confirmed\n",
              "76   737493  Maharashtra      0      0          2\n",
              "91   737494  Maharashtra      0      0          5\n",
              "97   737495  Maharashtra      0      0          2\n",
              "120  737496  Maharashtra      0      0         11\n",
              "133  737497  Maharashtra      0      0         14"
            ],
            "text/html": [
              "\n",
              "  <div id=\"df-4ec75054-5df5-48ce-b0f3-cff3635461d9\">\n",
              "    <div class=\"colab-df-container\">\n",
              "      <div>\n",
              "<style scoped>\n",
              "    .dataframe tbody tr th:only-of-type {\n",
              "        vertical-align: middle;\n",
              "    }\n",
              "\n",
              "    .dataframe tbody tr th {\n",
              "        vertical-align: top;\n",
              "    }\n",
              "\n",
              "    .dataframe thead th {\n",
              "        text-align: right;\n",
              "    }\n",
              "</style>\n",
              "<table border=\"1\" class=\"dataframe\">\n",
              "  <thead>\n",
              "    <tr style=\"text-align: right;\">\n",
              "      <th></th>\n",
              "      <th>date</th>\n",
              "      <th>state</th>\n",
              "      <th>cured</th>\n",
              "      <th>death</th>\n",
              "      <th>confirmed</th>\n",
              "    </tr>\n",
              "  </thead>\n",
              "  <tbody>\n",
              "    <tr>\n",
              "      <th>76</th>\n",
              "      <td>737493</td>\n",
              "      <td>Maharashtra</td>\n",
              "      <td>0</td>\n",
              "      <td>0</td>\n",
              "      <td>2</td>\n",
              "    </tr>\n",
              "    <tr>\n",
              "      <th>91</th>\n",
              "      <td>737494</td>\n",
              "      <td>Maharashtra</td>\n",
              "      <td>0</td>\n",
              "      <td>0</td>\n",
              "      <td>5</td>\n",
              "    </tr>\n",
              "    <tr>\n",
              "      <th>97</th>\n",
              "      <td>737495</td>\n",
              "      <td>Maharashtra</td>\n",
              "      <td>0</td>\n",
              "      <td>0</td>\n",
              "      <td>2</td>\n",
              "    </tr>\n",
              "    <tr>\n",
              "      <th>120</th>\n",
              "      <td>737496</td>\n",
              "      <td>Maharashtra</td>\n",
              "      <td>0</td>\n",
              "      <td>0</td>\n",
              "      <td>11</td>\n",
              "    </tr>\n",
              "    <tr>\n",
              "      <th>133</th>\n",
              "      <td>737497</td>\n",
              "      <td>Maharashtra</td>\n",
              "      <td>0</td>\n",
              "      <td>0</td>\n",
              "      <td>14</td>\n",
              "    </tr>\n",
              "  </tbody>\n",
              "</table>\n",
              "</div>\n",
              "      <button class=\"colab-df-convert\" onclick=\"convertToInteractive('df-4ec75054-5df5-48ce-b0f3-cff3635461d9')\"\n",
              "              title=\"Convert this dataframe to an interactive table.\"\n",
              "              style=\"display:none;\">\n",
              "        \n",
              "  <svg xmlns=\"http://www.w3.org/2000/svg\" height=\"24px\"viewBox=\"0 0 24 24\"\n",
              "       width=\"24px\">\n",
              "    <path d=\"M0 0h24v24H0V0z\" fill=\"none\"/>\n",
              "    <path d=\"M18.56 5.44l.94 2.06.94-2.06 2.06-.94-2.06-.94-.94-2.06-.94 2.06-2.06.94zm-11 1L8.5 8.5l.94-2.06 2.06-.94-2.06-.94L8.5 2.5l-.94 2.06-2.06.94zm10 10l.94 2.06.94-2.06 2.06-.94-2.06-.94-.94-2.06-.94 2.06-2.06.94z\"/><path d=\"M17.41 7.96l-1.37-1.37c-.4-.4-.92-.59-1.43-.59-.52 0-1.04.2-1.43.59L10.3 9.45l-7.72 7.72c-.78.78-.78 2.05 0 2.83L4 21.41c.39.39.9.59 1.41.59.51 0 1.02-.2 1.41-.59l7.78-7.78 2.81-2.81c.8-.78.8-2.07 0-2.86zM5.41 20L4 18.59l7.72-7.72 1.47 1.35L5.41 20z\"/>\n",
              "  </svg>\n",
              "      </button>\n",
              "      \n",
              "  <style>\n",
              "    .colab-df-container {\n",
              "      display:flex;\n",
              "      flex-wrap:wrap;\n",
              "      gap: 12px;\n",
              "    }\n",
              "\n",
              "    .colab-df-convert {\n",
              "      background-color: #E8F0FE;\n",
              "      border: none;\n",
              "      border-radius: 50%;\n",
              "      cursor: pointer;\n",
              "      display: none;\n",
              "      fill: #1967D2;\n",
              "      height: 32px;\n",
              "      padding: 0 0 0 0;\n",
              "      width: 32px;\n",
              "    }\n",
              "\n",
              "    .colab-df-convert:hover {\n",
              "      background-color: #E2EBFA;\n",
              "      box-shadow: 0px 1px 2px rgba(60, 64, 67, 0.3), 0px 1px 3px 1px rgba(60, 64, 67, 0.15);\n",
              "      fill: #174EA6;\n",
              "    }\n",
              "\n",
              "    [theme=dark] .colab-df-convert {\n",
              "      background-color: #3B4455;\n",
              "      fill: #D2E3FC;\n",
              "    }\n",
              "\n",
              "    [theme=dark] .colab-df-convert:hover {\n",
              "      background-color: #434B5C;\n",
              "      box-shadow: 0px 1px 3px 1px rgba(0, 0, 0, 0.15);\n",
              "      filter: drop-shadow(0px 1px 2px rgba(0, 0, 0, 0.3));\n",
              "      fill: #FFFFFF;\n",
              "    }\n",
              "  </style>\n",
              "\n",
              "      <script>\n",
              "        const buttonEl =\n",
              "          document.querySelector('#df-4ec75054-5df5-48ce-b0f3-cff3635461d9 button.colab-df-convert');\n",
              "        buttonEl.style.display =\n",
              "          google.colab.kernel.accessAllowed ? 'block' : 'none';\n",
              "\n",
              "        async function convertToInteractive(key) {\n",
              "          const element = document.querySelector('#df-4ec75054-5df5-48ce-b0f3-cff3635461d9');\n",
              "          const dataTable =\n",
              "            await google.colab.kernel.invokeFunction('convertToInteractive',\n",
              "                                                     [key], {});\n",
              "          if (!dataTable) return;\n",
              "\n",
              "          const docLinkHtml = 'Like what you see? Visit the ' +\n",
              "            '<a target=\"_blank\" href=https://colab.research.google.com/notebooks/data_table.ipynb>data table notebook</a>'\n",
              "            + ' to learn more about interactive tables.';\n",
              "          element.innerHTML = '';\n",
              "          dataTable['output_type'] = 'display_data';\n",
              "          await google.colab.output.renderOutput(dataTable, element);\n",
              "          const docLink = document.createElement('div');\n",
              "          docLink.innerHTML = docLinkHtml;\n",
              "          element.appendChild(docLink);\n",
              "        }\n",
              "      </script>\n",
              "    </div>\n",
              "  </div>\n",
              "  "
            ]
          },
          "metadata": {},
          "execution_count": 9
        }
      ]
    },
    {
      "cell_type": "code",
      "source": [
        "# Define dependent and independent variables\n",
        "x=mh[['date']]\n",
        "y=mh[['confirmed']]"
      ],
      "metadata": {
        "id": "qagKpKQm_2oA"
      },
      "execution_count": null,
      "outputs": []
    },
    {
      "cell_type": "markdown",
      "source": [
        "Step-3\n",
        "\n",
        "Split the date into train and test set"
      ],
      "metadata": {
        "id": "fDBheV9UAik2"
      }
    },
    {
      "cell_type": "code",
      "source": [
        "# here we have given test size 0.3 i.e 30% data from dataset will be consider as test data\n",
        "x_train,x_test,y_train,y_test=train_test_split(x,y,test_size=0.3, random_state = 0)      #when random_state set to an integer, train_test_split will return same results for each execution"
      ],
      "metadata": {
        "id": "g4NMGBCJAg07"
      },
      "execution_count": null,
      "outputs": []
    },
    {
      "cell_type": "markdown",
      "source": [
        "Step-4\n",
        "fit the data into linear regresson model"
      ],
      "metadata": {
        "id": "36cJpPOoBWa0"
      }
    },
    {
      "cell_type": "code",
      "source": [
        "# we have imported linearRegression Lib already above so we define it as notaion lr2 for Model-2\n",
        "lr=LinearRegression()"
      ],
      "metadata": {
        "id": "a7K_AuGtAzw6"
      },
      "execution_count": null,
      "outputs": []
    },
    {
      "cell_type": "code",
      "source": [
        "# Fit the train data\n",
        "lr.fit(x_train,y_train)"
      ],
      "metadata": {
        "colab": {
          "base_uri": "https://localhost:8080/"
        },
        "id": "Q4U6HkYnBkW6",
        "outputId": "c6fcf964-3e6a-4ca3-944f-34e95102e5c8"
      },
      "execution_count": null,
      "outputs": [
        {
          "output_type": "execute_result",
          "data": {
            "text/plain": [
              "LinearRegression()"
            ]
          },
          "metadata": {},
          "execution_count": 13
        }
      ]
    },
    {
      "cell_type": "markdown",
      "source": [
        "Step-5\n",
        "\n",
        "Now feed the test data to test the accuracy i.e feed the x_test data "
      ],
      "metadata": {
        "id": "H7ruHZOPBvMq"
      }
    },
    {
      "cell_type": "code",
      "source": [
        "# now we will test data over by using independet variable x_test to check result as per the y_test\n",
        "# use above trained linear regression relation\n",
        "y_pred=lr.predict(x_test)\n",
        "y_pred"
      ],
      "metadata": {
        "colab": {
          "base_uri": "https://localhost:8080/"
        },
        "id": "yd3n17wzBo3W",
        "outputId": "ea7cb6fb-7079-4e73-8239-8112262aef1c"
      },
      "execution_count": null,
      "outputs": [
        {
          "output_type": "execute_result",
          "data": {
            "text/plain": [
              "array([[ 4233712.90472603],\n",
              "       [  175330.74784279],\n",
              "       [ 2056358.66817665],\n",
              "       [ 1824451.11635399],\n",
              "       [ 2803616.33515739],\n",
              "       [-1009974.51702499],\n",
              "       [  523192.07557487],\n",
              "       [ 2185196.19696617],\n",
              "       [ 3757014.04820442],\n",
              "       [   46493.21905327],\n",
              "       [ 4375434.18639565],\n",
              "       [ 4091991.62305832],\n",
              "       [  780867.13315582],\n",
              "       [ 4517155.46806526],\n",
              "       [ 3666827.77805138],\n",
              "       [ -198298.08564758],\n",
              "       [ 3009756.38122177],\n",
              "       [  561843.33421326],\n",
              "       [ 4298131.66912079],\n",
              "       [ 2636127.5477314 ],\n",
              "       [ -726531.95368767],\n",
              "       [  -43693.05109978],\n",
              "       [ 3241663.93304443],\n",
              "       [ 1772916.10483742],\n",
              "       [ 3357617.70895576],\n",
              "       [ 1631194.82316971],\n",
              "       [ -623461.93065453],\n",
              "       [ 3228780.18016434],\n",
              "       [ 1373519.76558876],\n",
              "       [ -932671.99975014],\n",
              "       [ -610578.17777634],\n",
              "       [ 2739197.57076263],\n",
              "       [ 2868035.09955215],\n",
              "       [ 1051425.94361496],\n",
              "       [ 5212878.12352943],\n",
              "       [  110911.98344803],\n",
              "       [  819518.3917923 ],\n",
              "       [ 4993854.32458687],\n",
              "       [ 5071156.84186172],\n",
              "       [  999890.93209839],\n",
              "       [  767983.38027763],\n",
              "       [ 1914637.38650703],\n",
              "       [ 3203012.67440605],\n",
              "       [ 5277296.8879261 ],\n",
              "       [ 2816500.08803749],\n",
              "       [ 3177245.16864967],\n",
              "       [ 2198079.94984436],\n",
              "       [ 1888869.88074875],\n",
              "       [  845285.89755058],\n",
              "       [ 5135575.60625648],\n",
              "       [  497424.5698185 ],\n",
              "       [ 4800598.03140259],\n",
              "       [  420122.05254364],\n",
              "       [ 1695613.58756447],\n",
              "       [ 3447803.9791069 ],\n",
              "       [-1190347.05733109],\n",
              "       [ -236949.34428406],\n",
              "       [-1048625.77566147],\n",
              "       [  317052.02951241],\n",
              "       [ 2043474.91529655],\n",
              "       [ 4736179.26700783],\n",
              "       [ 1837334.86923409],\n",
              "       [ 1128728.46088791],\n",
              "       [ 1760032.35195923],\n",
              "       [  626262.09860802],\n",
              "       [ 1901753.63362885],\n",
              "       [  188214.50072098],\n",
              "       [ 3589525.26077652],\n",
              "       [ -224065.59140587],\n",
              "       [ 4620225.4910965 ],\n",
              "       [ 3976037.84714699],\n",
              "       [ 2520173.77182007],\n",
              "       [-1074393.28141975],\n",
              "       [ 4311015.42200089],\n",
              "       [ 2777848.82939911],\n",
              "       [ 3718362.78956604],\n",
              "       [ 2442871.25454521],\n",
              "       [ -365786.87307549],\n",
              "       [ 4530039.22094345],\n",
              "       [ 3318966.45031738],\n",
              "       [   33609.46617317],\n",
              "       [  252633.26511765],\n",
              "       [ 1966172.39802361],\n",
              "       [ 4079107.87017822],\n",
              "       [ 4697528.00837135],\n",
              "       [ 3769897.80108261],\n",
              "       [ 5470553.18111038],\n",
              "       [ 1025658.43785667],\n",
              "       [ 5006738.07746696],\n",
              "       [ 2417103.74878883],\n",
              "       [ 5380366.91095734],\n",
              "       [ 3125710.1571331 ],\n",
              "       [ 1863102.37499046],\n",
              "       [ 5122691.85337639],\n",
              "       [ 1450822.28286362],\n",
              "       [ 4555806.72670174],\n",
              "       [ 4452736.70366859],\n",
              "       [ 1012774.68497849],\n",
              "       [ -507508.15474319],\n",
              "       [ 1875986.12787056],\n",
              "       [ 4826365.53716087],\n",
              "       [ -571926.91913795],\n",
              "       [   85144.47768974],\n",
              "       [  793750.88603401],\n",
              "       [ 3615292.76653481],\n",
              "       [ 3821432.81259918],\n",
              "       [ -481740.64898682],\n",
              "       [ 2301149.9728775 ],\n",
              "       [ -430205.63747025],\n",
              "       [ 3963154.09426689],\n",
              "       [ 2906686.35819054],\n",
              "       [ 1798683.6105957 ],\n",
              "       [ -288484.35580063],\n",
              "       [ 1502357.29438019],\n",
              "       [-1125928.29293633],\n",
              "       [ 4426969.19791222],\n",
              "       [ 3370501.46183395],\n",
              "       [ 2649011.30060959],\n",
              "       [ 2855151.34667397],\n",
              "       [ 5303064.39368248],\n",
              "       [ 4955203.06595039],\n",
              "       [  883937.15618706],\n",
              "       [-1113044.54005623],\n",
              "       [ 1953288.64514351],\n",
              "       [ 4671760.50261307],\n",
              "       [-1100160.78717804],\n",
              "       [ 4117759.1288147 ],\n",
              "       [ 4723295.51412773],\n",
              "       [ 1747148.59908104],\n",
              "       [ 2919570.11106873],\n",
              "       [ 1102960.95513153],\n",
              "       [ 2945337.61682701],\n",
              "       [ 1321984.7540741 ],\n",
              "       [  652029.6043663 ],\n",
              "       [  394354.54678535],\n",
              "       [ 4594457.98533821],\n",
              "       [ -443089.39034843],\n",
              "       [ 1296217.24831581],\n",
              "       [ 4130642.88169479],\n",
              "       [ 4414085.44503212],\n",
              "       [ 5444785.6753521 ],\n",
              "       [ 4143526.63457298],\n",
              "       [ 2378452.49015045],\n",
              "       [ -494624.40186501],\n",
              "       [ 5238645.62928772],\n",
              "       [ 1618311.07028961],\n",
              "       [ -765183.21232414],\n",
              "       [ 3705479.03668785],\n",
              "       [ 2623243.7948513 ],\n",
              "       [ 1437938.52998543],\n",
              "       [ 1244682.23679924],\n",
              "       [ -533275.66050148],\n",
              "       [ -249833.09716415],\n",
              "       [ -868253.23535538],\n",
              "       [ 1541008.55301666],\n",
              "       [-1151695.79869461]])"
            ]
          },
          "metadata": {},
          "execution_count": 14
        }
      ]
    },
    {
      "cell_type": "code",
      "source": [
        "#Now vie actual y_test values to check wheather y_pred values are come as per y_test\n",
        "y_test.head()"
      ],
      "metadata": {
        "colab": {
          "base_uri": "https://localhost:8080/",
          "height": 206
        },
        "id": "BauEn7yHB9Cy",
        "outputId": "0542802c-2a04-42d4-ae82-a4a49b373184"
      },
      "execution_count": null,
      "outputs": [
        {
          "output_type": "execute_result",
          "data": {
            "text/plain": [
              "       confirmed\n",
              "14566    4822902\n",
              "3370      139010\n",
              "8505     1749777\n",
              "7875     1666668\n",
              "10570    1978044"
            ],
            "text/html": [
              "\n",
              "  <div id=\"df-b051fe08-5b1b-479d-984b-70d6ca97ab40\">\n",
              "    <div class=\"colab-df-container\">\n",
              "      <div>\n",
              "<style scoped>\n",
              "    .dataframe tbody tr th:only-of-type {\n",
              "        vertical-align: middle;\n",
              "    }\n",
              "\n",
              "    .dataframe tbody tr th {\n",
              "        vertical-align: top;\n",
              "    }\n",
              "\n",
              "    .dataframe thead th {\n",
              "        text-align: right;\n",
              "    }\n",
              "</style>\n",
              "<table border=\"1\" class=\"dataframe\">\n",
              "  <thead>\n",
              "    <tr style=\"text-align: right;\">\n",
              "      <th></th>\n",
              "      <th>confirmed</th>\n",
              "    </tr>\n",
              "  </thead>\n",
              "  <tbody>\n",
              "    <tr>\n",
              "      <th>14566</th>\n",
              "      <td>4822902</td>\n",
              "    </tr>\n",
              "    <tr>\n",
              "      <th>3370</th>\n",
              "      <td>139010</td>\n",
              "    </tr>\n",
              "    <tr>\n",
              "      <th>8505</th>\n",
              "      <td>1749777</td>\n",
              "    </tr>\n",
              "    <tr>\n",
              "      <th>7875</th>\n",
              "      <td>1666668</td>\n",
              "    </tr>\n",
              "    <tr>\n",
              "      <th>10570</th>\n",
              "      <td>1978044</td>\n",
              "    </tr>\n",
              "  </tbody>\n",
              "</table>\n",
              "</div>\n",
              "      <button class=\"colab-df-convert\" onclick=\"convertToInteractive('df-b051fe08-5b1b-479d-984b-70d6ca97ab40')\"\n",
              "              title=\"Convert this dataframe to an interactive table.\"\n",
              "              style=\"display:none;\">\n",
              "        \n",
              "  <svg xmlns=\"http://www.w3.org/2000/svg\" height=\"24px\"viewBox=\"0 0 24 24\"\n",
              "       width=\"24px\">\n",
              "    <path d=\"M0 0h24v24H0V0z\" fill=\"none\"/>\n",
              "    <path d=\"M18.56 5.44l.94 2.06.94-2.06 2.06-.94-2.06-.94-.94-2.06-.94 2.06-2.06.94zm-11 1L8.5 8.5l.94-2.06 2.06-.94-2.06-.94L8.5 2.5l-.94 2.06-2.06.94zm10 10l.94 2.06.94-2.06 2.06-.94-2.06-.94-.94-2.06-.94 2.06-2.06.94z\"/><path d=\"M17.41 7.96l-1.37-1.37c-.4-.4-.92-.59-1.43-.59-.52 0-1.04.2-1.43.59L10.3 9.45l-7.72 7.72c-.78.78-.78 2.05 0 2.83L4 21.41c.39.39.9.59 1.41.59.51 0 1.02-.2 1.41-.59l7.78-7.78 2.81-2.81c.8-.78.8-2.07 0-2.86zM5.41 20L4 18.59l7.72-7.72 1.47 1.35L5.41 20z\"/>\n",
              "  </svg>\n",
              "      </button>\n",
              "      \n",
              "  <style>\n",
              "    .colab-df-container {\n",
              "      display:flex;\n",
              "      flex-wrap:wrap;\n",
              "      gap: 12px;\n",
              "    }\n",
              "\n",
              "    .colab-df-convert {\n",
              "      background-color: #E8F0FE;\n",
              "      border: none;\n",
              "      border-radius: 50%;\n",
              "      cursor: pointer;\n",
              "      display: none;\n",
              "      fill: #1967D2;\n",
              "      height: 32px;\n",
              "      padding: 0 0 0 0;\n",
              "      width: 32px;\n",
              "    }\n",
              "\n",
              "    .colab-df-convert:hover {\n",
              "      background-color: #E2EBFA;\n",
              "      box-shadow: 0px 1px 2px rgba(60, 64, 67, 0.3), 0px 1px 3px 1px rgba(60, 64, 67, 0.15);\n",
              "      fill: #174EA6;\n",
              "    }\n",
              "\n",
              "    [theme=dark] .colab-df-convert {\n",
              "      background-color: #3B4455;\n",
              "      fill: #D2E3FC;\n",
              "    }\n",
              "\n",
              "    [theme=dark] .colab-df-convert:hover {\n",
              "      background-color: #434B5C;\n",
              "      box-shadow: 0px 1px 3px 1px rgba(0, 0, 0, 0.15);\n",
              "      filter: drop-shadow(0px 1px 2px rgba(0, 0, 0, 0.3));\n",
              "      fill: #FFFFFF;\n",
              "    }\n",
              "  </style>\n",
              "\n",
              "      <script>\n",
              "        const buttonEl =\n",
              "          document.querySelector('#df-b051fe08-5b1b-479d-984b-70d6ca97ab40 button.colab-df-convert');\n",
              "        buttonEl.style.display =\n",
              "          google.colab.kernel.accessAllowed ? 'block' : 'none';\n",
              "\n",
              "        async function convertToInteractive(key) {\n",
              "          const element = document.querySelector('#df-b051fe08-5b1b-479d-984b-70d6ca97ab40');\n",
              "          const dataTable =\n",
              "            await google.colab.kernel.invokeFunction('convertToInteractive',\n",
              "                                                     [key], {});\n",
              "          if (!dataTable) return;\n",
              "\n",
              "          const docLinkHtml = 'Like what you see? Visit the ' +\n",
              "            '<a target=\"_blank\" href=https://colab.research.google.com/notebooks/data_table.ipynb>data table notebook</a>'\n",
              "            + ' to learn more about interactive tables.';\n",
              "          element.innerHTML = '';\n",
              "          dataTable['output_type'] = 'display_data';\n",
              "          await google.colab.output.renderOutput(dataTable, element);\n",
              "          const docLink = document.createElement('div');\n",
              "          docLink.innerHTML = docLinkHtml;\n",
              "          element.appendChild(docLink);\n",
              "        }\n",
              "      </script>\n",
              "    </div>\n",
              "  </div>\n",
              "  "
            ]
          },
          "metadata": {},
          "execution_count": 15
        }
      ]
    },
    {
      "cell_type": "markdown",
      "source": [
        "Step\n",
        "Find MSE "
      ],
      "metadata": {
        "id": "0Z8BRZf1Czkl"
      }
    },
    {
      "cell_type": "code",
      "source": [
        "# we already imported MSE lib so we will directly find the MSE\n",
        "# mean squre error of model 1\n",
        "mean_squared_error(y_test,y_pred)"
      ],
      "metadata": {
        "colab": {
          "base_uri": "https://localhost:8080/"
        },
        "id": "gDtaCPD0CsqP",
        "outputId": "fc3626a0-ec60-4491-b76b-09cc4e4f3db4"
      },
      "execution_count": null,
      "outputs": [
        {
          "output_type": "execute_result",
          "data": {
            "text/plain": [
              "547107733817.5716"
            ]
          },
          "metadata": {},
          "execution_count": 16
        }
      ]
    },
    {
      "cell_type": "code",
      "source": [
        "# Also check the accuracy\n",
        "lr.score(x_test,y_test)"
      ],
      "metadata": {
        "colab": {
          "base_uri": "https://localhost:8080/"
        },
        "id": "eCvNElQs9Fcz",
        "outputId": "1f77c67f-592d-41cb-baae-0d49d9bd26a7"
      },
      "execution_count": null,
      "outputs": [
        {
          "output_type": "execute_result",
          "data": {
            "text/plain": [
              "0.8743818261261916"
            ]
          },
          "metadata": {},
          "execution_count": 17
        }
      ]
    },
    {
      "cell_type": "markdown",
      "source": [
        "# Now,  Lasso and Ridge model"
      ],
      "metadata": {
        "id": "e1rXL50TI0qR"
      }
    },
    {
      "cell_type": "code",
      "source": [
        "# Import the lasso and ridge model from sklearn\n",
        "from sklearn.linear_model import Lasso, Ridge"
      ],
      "metadata": {
        "id": "cBwo3gE9I7Il"
      },
      "execution_count": null,
      "outputs": []
    },
    {
      "cell_type": "markdown",
      "source": [
        "Ridge Model"
      ],
      "metadata": {
        "id": "DQQJacVeLnqR"
      }
    },
    {
      "cell_type": "code",
      "source": [
        "# Give notaion to Ridge model\n",
        "rd=Ridge()\n",
        "\n",
        "#fit the values in Model\n",
        "rd.fit(x_train,y_train)\n",
        "\n",
        "y_pred_ridge =rd.predict(x_test)"
      ],
      "metadata": {
        "id": "RZVTMZDdK4uD"
      },
      "execution_count": null,
      "outputs": []
    },
    {
      "cell_type": "code",
      "source": [
        "#Check the accuracy\n",
        "acc = rd.score(x_test,y_pred_ridge)\n",
        "print(\"Accuracy :\", acc )\n",
        "\n",
        "MSE  = mean_squared_error(y_test,y_pred_ridge)\n",
        "print(\"MSE :\" , MSE)\n",
        "\n",
        "RMSE = np.sqrt(MSE)\n",
        "print(\"RMSE :\" ,RMSE)\n",
        "\n",
        "r2 = r2_score(y_test,y_pred_ridge)\n",
        "print(\"R2 :\" ,r2)\n",
        "print(\"Adjusted R2 : \",1-(1-r2_score(y_test,y_pred_ridge))*((x_test.shape[0]-1)/(x_test.shape[0]-x_test.shape[1]-1)))"
      ],
      "metadata": {
        "colab": {
          "base_uri": "https://localhost:8080/"
        },
        "id": "1M9-KlztM8eB",
        "outputId": "08424407-47ef-4b17-8978-9c3cb5acceee"
      },
      "execution_count": null,
      "outputs": [
        {
          "output_type": "stream",
          "name": "stdout",
          "text": [
            "Accuracy : 1.0\n",
            "MSE : 547107739449.22375\n",
            "RMSE : 739667.3167372098\n",
            "R2 : 0.8743818248331412\n",
            "Adjusted R2 :  0.8735661223969927\n"
          ]
        }
      ]
    },
    {
      "cell_type": "markdown",
      "source": [
        "As we seen above accuracy of ridge and linear regression is quite similar but last some digits shows that accuracy of ridge model is higher"
      ],
      "metadata": {
        "id": "xRDffcMnLaYF"
      }
    },
    {
      "cell_type": "markdown",
      "source": [
        "Now to increase the more accuracy we have to adjust the value of λ,\n",
        "as belows formula\n",
        "$$\\text{RSS} + \\lambda \\sum_{j=1}^p \\beta_j^2$$"
      ],
      "metadata": {
        "id": "a2nOzXtQLqlv"
      }
    },
    {
      "cell_type": "code",
      "source": [
        "# Now adjust the value of λ\n",
        "rd1=Ridge(alpha=3)           # by default it taken as 1\n",
        "\n",
        "#fit the values in Model\n",
        "rd1.fit(x_train,y_train)\n",
        "\n",
        "y_pred_ridge_1=rd1.predict(x_test)"
      ],
      "metadata": {
        "id": "vwpbJSgeLmmT"
      },
      "execution_count": null,
      "outputs": []
    },
    {
      "cell_type": "code",
      "source": [
        "#Check the accuracy\n",
        "acc = rd.score(x_test,y_pred_ridge_1)\n",
        "print(\"Accuracy :\", acc )\n",
        "\n",
        "MSE  = mean_squared_error(y_test,y_pred_ridge_1)\n",
        "print(\"MSE :\" , MSE)\n",
        "\n",
        "RMSE = np.sqrt(MSE)\n",
        "print(\"RMSE :\" ,RMSE)\n",
        "\n",
        "r2 = r2_score(y_test,y_pred_ridge_1)\n",
        "print(\"R2 :\" ,r2)\n",
        "print(\"Adjusted R2 : \",1-(1-r2_score(y_test,y_pred_ridge_1))*((x_test.shape[0]-1)/(x_test.shape[0]-x_test.shape[1]-1)))"
      ],
      "metadata": {
        "colab": {
          "base_uri": "https://localhost:8080/"
        },
        "id": "_GY6Lnb9N4H7",
        "outputId": "0f376cc1-eab3-4dae-ca3e-581feb9d0d99"
      },
      "execution_count": null,
      "outputs": [
        {
          "output_type": "stream",
          "name": "stdout",
          "text": [
            "Accuracy : 0.9999999999999404\n",
            "MSE : 547107750712.54987\n",
            "RMSE : 739667.3243509881\n",
            "R2 : 0.8743818222470355\n",
            "Adjusted R2 :  0.8735661197940943\n"
          ]
        }
      ]
    },
    {
      "cell_type": "markdown",
      "source": [
        "AS we seen above as increasing the alpha value accuracy got decrease,\n",
        "\n",
        "so now we will reduce the alpha value\n",
        "\n"
      ],
      "metadata": {
        "id": "_Vad0EzEMoeS"
      }
    },
    {
      "cell_type": "code",
      "source": [
        "# Now adjust the value of λ by reducing\n",
        "rd2=Ridge(alpha=0.5)           # by default it taken as 1\n",
        "\n",
        "#fit the values in Model\n",
        "rd2.fit(x_train,y_train)\n",
        "\n",
        "#Check the accuracy\n",
        "rd2.score(x_test,y_test)"
      ],
      "metadata": {
        "colab": {
          "base_uri": "https://localhost:8080/"
        },
        "id": "uftTHBnAMyIy",
        "outputId": "6afcea3e-bec2-439e-8d8d-f41b60850ad8"
      },
      "execution_count": null,
      "outputs": [
        {
          "output_type": "execute_result",
          "data": {
            "text/plain": [
              "0.874381825479638"
            ]
          },
          "metadata": {},
          "execution_count": 21
        }
      ]
    },
    {
      "cell_type": "markdown",
      "source": [
        "As seen accuracy start to increase slitly"
      ],
      "metadata": {
        "id": "709TojxCM7pb"
      }
    },
    {
      "cell_type": "markdown",
      "source": [
        "# Lasso Model"
      ],
      "metadata": {
        "id": "Z3ykRzKrNIQe"
      }
    },
    {
      "cell_type": "code",
      "source": [
        "# Give notaion to Ridge model\n",
        "ls=Lasso()\n",
        "\n",
        "#fit the values in Model\n",
        "ls.fit(x_train,y_train)\n",
        "\n",
        "y_pred_lasso = ls.predict(x_test)"
      ],
      "metadata": {
        "id": "zp-Y5wSSNFZk"
      },
      "execution_count": null,
      "outputs": []
    },
    {
      "cell_type": "code",
      "source": [
        "#Check the accuracy\n",
        "acc = rd.score(x_test,y_pred_lasso)\n",
        "print(\"Accuracy :\", acc )\n",
        "\n",
        "MSE  = mean_squared_error(y_test,y_pred_lasso)\n",
        "print(\"MSE :\" , MSE)\n",
        "\n",
        "RMSE = np.sqrt(MSE)\n",
        "print(\"RMSE :\" ,RMSE)\n",
        "\n",
        "r2 = r2_score(y_test,y_pred_lasso)\n",
        "print(\"R2 :\" ,r2)\n",
        "print(\"Adjusted R2 : \",1-(1-r2_score(y_test,y_pred_lasso))*((x_test.shape[0]-1)/(x_test.shape[0]-x_test.shape[1]-1)))"
      ],
      "metadata": {
        "colab": {
          "base_uri": "https://localhost:8080/"
        },
        "id": "7KQYeueoOA6D",
        "outputId": "d0df4798-b3aa-4e8b-b229-9c94edac807f"
      },
      "execution_count": null,
      "outputs": [
        {
          "output_type": "stream",
          "name": "stdout",
          "text": [
            "Accuracy : 0.9999999999999859\n",
            "MSE : 547107733976.8353\n",
            "RMSE : 739667.3130379869\n",
            "R2 : 0.874381826089624\n",
            "Adjusted R2 :  0.8735661236616346\n"
          ]
        }
      ]
    },
    {
      "cell_type": "markdown",
      "source": [
        "as seen above lasso have slietly higher accuracy than linear regression(0.8743818248331412) and Ridge model(0.8743818248331412)"
      ],
      "metadata": {
        "id": "OdcjKUumNg7F"
      }
    },
    {
      "cell_type": "markdown",
      "source": [
        "Now, adjust the alpha values in that\n",
        "\n",
        "$$\\text{RSS} + \\lambda \\sum_{j=1}^p \\lvert \\beta_j \\rvert$$"
      ],
      "metadata": {
        "id": "OWqWCtBQNw3P"
      }
    },
    {
      "cell_type": "code",
      "source": [
        "# Give notaion to Ridge model\n",
        "ls1=Lasso(alpha=2)\n",
        "\n",
        "#fit the values in Model\n",
        "ls1.fit(x_train,y_train)\n",
        "\n",
        "#Check the accuracy\n",
        "ls1.score(x_test,y_test)        "
      ],
      "metadata": {
        "colab": {
          "base_uri": "https://localhost:8080/"
        },
        "id": "KjIF5RLkN0PX",
        "outputId": "8850a341-8b7f-48b3-9cca-f05b84c636ad"
      },
      "execution_count": null,
      "outputs": [
        {
          "output_type": "execute_result",
          "data": {
            "text/plain": [
              "0.8743818260530626"
            ]
          },
          "metadata": {},
          "execution_count": 23
        }
      ]
    },
    {
      "cell_type": "markdown",
      "source": [
        "As seen above as increasing the alpha value its accuracy start to decrese\n",
        "\n",
        "now we will reduce the alha value in model"
      ],
      "metadata": {
        "id": "5HsaGlhBOGYx"
      }
    },
    {
      "cell_type": "code",
      "source": [
        "# Give notaion to Ridge model\n",
        "ls2=Lasso(alpha=0.3)\n",
        "\n",
        "#fit the values in Model\n",
        "ls2.fit(x_train,y_train)\n",
        "\n",
        "y_pred_lasso_2=ls2.predict(x_test)      "
      ],
      "metadata": {
        "id": "Ezma09S-ORkS"
      },
      "execution_count": null,
      "outputs": []
    },
    {
      "cell_type": "code",
      "source": [
        "#Check the accuracy\n",
        "acc = rd.score(x_test,y_pred_lasso_2)\n",
        "print(\"Accuracy :\", acc )\n",
        "\n",
        "MSE  = mean_squared_error(y_test,y_pred_lasso_2)\n",
        "print(\"MSE :\" , MSE)\n",
        "\n",
        "RMSE = np.sqrt(MSE)\n",
        "print(\"RMSE :\" ,RMSE)\n",
        "\n",
        "r2 = r2_score(y_test,y_pred_lasso_2)\n",
        "print(\"R2 :\" ,r2)\n",
        "print(\"Adjusted R2 : \",1-(1-r2_score(y_test,y_pred_lasso_2))*((x_test.shape[0]-1)/(x_test.shape[0]-x_test.shape[1]-1)))"
      ],
      "metadata": {
        "colab": {
          "base_uri": "https://localhost:8080/"
        },
        "id": "HOA5BDZ2P4D6",
        "outputId": "152776e4-3803-419e-b8c6-2e81aa54e346"
      },
      "execution_count": null,
      "outputs": [
        {
          "output_type": "stream",
          "name": "stdout",
          "text": [
            "Accuracy : 0.9999999999999853\n",
            "MSE : 547107733865.41296\n",
            "RMSE : 739667.3129626677\n",
            "R2 : 0.8743818261152071\n",
            "Adjusted R2 :  0.8735661236873837\n"
          ]
        }
      ]
    },
    {
      "cell_type": "markdown",
      "source": [
        "As we seen that accuracy is increased than above lasso model"
      ],
      "metadata": {
        "id": "XRrxoqJuOdlu"
      }
    },
    {
      "cell_type": "markdown",
      "source": [
        "So, every time we need to adjust the alpha value to get best fit aplha value, and that value manually impossible, so that to get most accuracte alpha value we have technique name \"hiperparameter tunning\" which we will learn in next session"
      ],
      "metadata": {
        "id": "0gc9DAfiOnBE"
      }
    },
    {
      "cell_type": "markdown",
      "source": [
        "# Cross-Validation and Hyperparameter Tunning"
      ],
      "metadata": {
        "id": "A95sstZoMM3U"
      }
    },
    {
      "cell_type": "markdown",
      "source": [
        "In this we will find the best fit model hyperparameter (i.e alpha or lambda) by using CV and GridSearchCV"
      ],
      "metadata": {
        "id": "6aUuJ6glQOQ5"
      }
    },
    {
      "cell_type": "code",
      "source": [
        "# Import GridSearchCV model\n",
        "from sklearn.model_selection import GridSearchCV"
      ],
      "metadata": {
        "id": "SO4yYUkFMMa8"
      },
      "execution_count": null,
      "outputs": []
    },
    {
      "cell_type": "code",
      "source": [
        "### Cross validation\n",
        "lasso = Lasso()\n",
        "parameters = {'alpha': [1e-15,1e-13,1e-10,1e-8,1e-5,1e-4,1e-3,1e-2,1e-1,1,5,10,20,30,40,45,50,55,60,100]}\n",
        "lasso_regressor = GridSearchCV(lasso, parameters, scoring='neg_mean_squared_error', cv=3)\n",
        "lasso_regressor.fit(x_train, y_train)"
      ],
      "metadata": {
        "colab": {
          "base_uri": "https://localhost:8080/"
        },
        "id": "jAeN1XzzQ4gY",
        "outputId": "2e888197-0443-435c-c8f3-40ee264c2353"
      },
      "execution_count": null,
      "outputs": [
        {
          "output_type": "stream",
          "name": "stderr",
          "text": [
            "/usr/local/lib/python3.7/dist-packages/sklearn/linear_model/_coordinate_descent.py:648: ConvergenceWarning: Objective did not converge. You might want to increase the number of iterations, check the scale of the features or consider increasing regularisation. Duality gap: 6.724e+13, tolerance: 9.983e+10\n",
            "  coef_, l1_reg, l2_reg, X, y, max_iter, tol, rng, random, positive\n",
            "/usr/local/lib/python3.7/dist-packages/sklearn/linear_model/_coordinate_descent.py:648: ConvergenceWarning: Objective did not converge. You might want to increase the number of iterations, check the scale of the features or consider increasing regularisation. Duality gap: 6.585e+13, tolerance: 1.118e+11\n",
            "  coef_, l1_reg, l2_reg, X, y, max_iter, tol, rng, random, positive\n",
            "/usr/local/lib/python3.7/dist-packages/sklearn/linear_model/_coordinate_descent.py:648: ConvergenceWarning: Objective did not converge. You might want to increase the number of iterations, check the scale of the features or consider increasing regularisation. Duality gap: 6.411e+13, tolerance: 9.972e+10\n",
            "  coef_, l1_reg, l2_reg, X, y, max_iter, tol, rng, random, positive\n",
            "/usr/local/lib/python3.7/dist-packages/sklearn/linear_model/_coordinate_descent.py:648: ConvergenceWarning: Objective did not converge. You might want to increase the number of iterations, check the scale of the features or consider increasing regularisation. Duality gap: 6.724e+13, tolerance: 9.983e+10\n",
            "  coef_, l1_reg, l2_reg, X, y, max_iter, tol, rng, random, positive\n",
            "/usr/local/lib/python3.7/dist-packages/sklearn/linear_model/_coordinate_descent.py:648: ConvergenceWarning: Objective did not converge. You might want to increase the number of iterations, check the scale of the features or consider increasing regularisation. Duality gap: 6.585e+13, tolerance: 1.118e+11\n",
            "  coef_, l1_reg, l2_reg, X, y, max_iter, tol, rng, random, positive\n",
            "/usr/local/lib/python3.7/dist-packages/sklearn/linear_model/_coordinate_descent.py:648: ConvergenceWarning: Objective did not converge. You might want to increase the number of iterations, check the scale of the features or consider increasing regularisation. Duality gap: 6.411e+13, tolerance: 9.972e+10\n",
            "  coef_, l1_reg, l2_reg, X, y, max_iter, tol, rng, random, positive\n",
            "/usr/local/lib/python3.7/dist-packages/sklearn/linear_model/_coordinate_descent.py:648: ConvergenceWarning: Objective did not converge. You might want to increase the number of iterations, check the scale of the features or consider increasing regularisation. Duality gap: 6.680e+13, tolerance: 9.983e+10\n",
            "  coef_, l1_reg, l2_reg, X, y, max_iter, tol, rng, random, positive\n",
            "/usr/local/lib/python3.7/dist-packages/sklearn/linear_model/_coordinate_descent.py:648: ConvergenceWarning: Objective did not converge. You might want to increase the number of iterations, check the scale of the features or consider increasing regularisation. Duality gap: 6.540e+13, tolerance: 1.118e+11\n",
            "  coef_, l1_reg, l2_reg, X, y, max_iter, tol, rng, random, positive\n",
            "/usr/local/lib/python3.7/dist-packages/sklearn/linear_model/_coordinate_descent.py:648: ConvergenceWarning: Objective did not converge. You might want to increase the number of iterations, check the scale of the features or consider increasing regularisation. Duality gap: 6.391e+13, tolerance: 9.972e+10\n",
            "  coef_, l1_reg, l2_reg, X, y, max_iter, tol, rng, random, positive\n",
            "/usr/local/lib/python3.7/dist-packages/sklearn/linear_model/_coordinate_descent.py:648: ConvergenceWarning: Objective did not converge. You might want to increase the number of iterations, check the scale of the features or consider increasing regularisation. Duality gap: 3.030e+13, tolerance: 9.983e+10\n",
            "  coef_, l1_reg, l2_reg, X, y, max_iter, tol, rng, random, positive\n",
            "/usr/local/lib/python3.7/dist-packages/sklearn/linear_model/_coordinate_descent.py:648: ConvergenceWarning: Objective did not converge. You might want to increase the number of iterations, check the scale of the features or consider increasing regularisation. Duality gap: 2.821e+13, tolerance: 1.118e+11\n",
            "  coef_, l1_reg, l2_reg, X, y, max_iter, tol, rng, random, positive\n",
            "/usr/local/lib/python3.7/dist-packages/sklearn/linear_model/_coordinate_descent.py:648: ConvergenceWarning: Objective did not converge. You might want to increase the number of iterations, check the scale of the features or consider increasing regularisation. Duality gap: 4.599e+13, tolerance: 9.972e+10\n",
            "  coef_, l1_reg, l2_reg, X, y, max_iter, tol, rng, random, positive\n",
            "/usr/local/lib/python3.7/dist-packages/sklearn/linear_model/_coordinate_descent.py:648: ConvergenceWarning: Objective did not converge. You might want to increase the number of iterations, check the scale of the features or consider increasing regularisation. Duality gap: 9.891e+13, tolerance: 1.557e+11\n",
            "  coef_, l1_reg, l2_reg, X, y, max_iter, tol, rng, random, positive\n"
          ]
        },
        {
          "output_type": "execute_result",
          "data": {
            "text/plain": [
              "GridSearchCV(cv=3, estimator=Lasso(),\n",
              "             param_grid={'alpha': [1e-15, 1e-13, 1e-10, 1e-08, 1e-05, 0.0001,\n",
              "                                   0.001, 0.01, 0.1, 1, 5, 10, 20, 30, 40, 45,\n",
              "                                   50, 55, 60, 100]},\n",
              "             scoring='neg_mean_squared_error')"
            ]
          },
          "metadata": {},
          "execution_count": 40
        }
      ]
    },
    {
      "cell_type": "code",
      "source": [
        "print(\"The best fit alpha value is found out to be :\" ,lasso_regressor.best_params_)\n",
        "print(\"\\nUsing \",lasso_regressor.best_params_, \" the negative mean squared error is: \", lasso_regressor.best_score_)"
      ],
      "metadata": {
        "colab": {
          "base_uri": "https://localhost:8080/"
        },
        "id": "u0pvj_1GR5tR",
        "outputId": "3397c0b9-32d2-465e-acf5-b260dcb4a770"
      },
      "execution_count": null,
      "outputs": [
        {
          "output_type": "stream",
          "name": "stdout",
          "text": [
            "The best fit alpha value is found out to be : {'alpha': 1e-15}\n",
            "\n",
            "Using  {'alpha': 1e-15}  the negative mean squared error is:  -552067975927.0084\n"
          ]
        }
      ]
    },
    {
      "cell_type": "code",
      "source": [
        "# fit the data in newl trained model\n",
        "y_pred_lasso = lasso_regressor.predict(x_test)"
      ],
      "metadata": {
        "id": "BBjlobh_SN9h"
      },
      "execution_count": null,
      "outputs": []
    },
    {
      "cell_type": "code",
      "source": [
        "#Check the accuracy\n",
        "acc = rd.score(x_test,y_pred_lasso)\n",
        "print(\"Accuracy :\", acc )\n",
        "\n",
        "MSE  = mean_squared_error(y_test,y_pred_lasso)\n",
        "print(\"MSE :\" , MSE)\n",
        "\n",
        "RMSE = np.sqrt(MSE)\n",
        "print(\"RMSE :\" ,RMSE)\n",
        "\n",
        "r2 = r2_score(y_test,y_pred_lasso)\n",
        "print(\"R2 :\" ,r2)\n",
        "print(\"Adjusted R2 : \",1-(1-r2_score(y_test,y_pred_lasso))*((x_test.shape[0]-1)/(x_test.shape[0]-x_test.shape[1]-1)))"
      ],
      "metadata": {
        "colab": {
          "base_uri": "https://localhost:8080/"
        },
        "id": "ZlLeXeHUSVtu",
        "outputId": "26ed5479-a03a-455c-fa17-96ef17a34ef4"
      },
      "execution_count": null,
      "outputs": [
        {
          "output_type": "stream",
          "name": "stdout",
          "text": [
            "Accuracy : 0.9999999999999851\n",
            "MSE : 547107733817.5716\n",
            "RMSE : 739667.3129303278\n",
            "R2 : 0.8743818261261916\n",
            "Adjusted R2 :  0.8735661236984397\n"
          ]
        }
      ]
    }
  ]
}